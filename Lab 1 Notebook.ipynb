{
 "cells": [
  {
   "cell_type": "markdown",
   "id": "350f0d13-12c3-4a21-a1a0-f142732cb48a",
   "metadata": {},
   "source": [
    "# Lab 1 Notebook\n",
    "## Drew Harris, Drew Stewart, Alex Petmecky"
   ]
  },
  {
   "cell_type": "markdown",
   "id": "fd888275-9120-4e69-ba3e-5223b9c3a22a",
   "metadata": {},
   "source": [
    "# Filtering The Data\n",
    "We used a simple javascript script to filter 1 out of every 3\n",
    "```ts\n",
    "const filename = Bun.argv[2];\n",
    "console.log(\"Splitting filename\", filename);\n",
    "\n",
    "const file = Bun.file(filename);\n",
    "const text = await file.text();\n",
    "const lines = text.split(\"\\n\");\n",
    "\n",
    "// Save every 30 lines\n",
    "const filtered = lines.filter((_, i) => i % 30 === 0);\n",
    "console.log(\"Filtered to\", filtered.length, \"lines\");\n",
    "const output = filtered.join(\"\\n\");\n",
    "\n",
    "const outFilename = filename.replace(\".csv\", \".small.csv\");\n",
    "\n",
    "await Bun.write(\"./\" + outFilename, output);\n",
    "console.log(\"Wrote to\", outFilename);\n",
    "```"
   ]
  }
 ],
 "metadata": {
  "kernelspec": {
   "display_name": "Python 3 (ipykernel)",
   "language": "python",
   "name": "python3"
  },
  "language_info": {
   "codemirror_mode": {
    "name": "ipython",
    "version": 3
   },
   "file_extension": ".py",
   "mimetype": "text/x-python",
   "name": "python",
   "nbconvert_exporter": "python",
   "pygments_lexer": "ipython3",
   "version": "3.11.0"
  }
 },
 "nbformat": 4,
 "nbformat_minor": 5
}
