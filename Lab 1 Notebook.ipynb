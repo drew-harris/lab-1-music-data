{
 "cells": [
  {
   "cell_type": "markdown",
   "id": "350f0d13-12c3-4a21-a1a0-f142732cb48a",
   "metadata": {},
   "source": [
    "# Lab 1 Notebook\n",
    "## Drew Harris, Drew Stewart, Alex Petmecky"
   ]
  }
 ],
 "metadata": {
  "kernelspec": {
   "display_name": "Python 3 (ipykernel)",
   "language": "python",
   "name": "python3"
  },
  "language_info": {
   "codemirror_mode": {
    "name": "ipython",
    "version": 3
   },
   "file_extension": ".py",
   "mimetype": "text/x-python",
   "name": "python",
   "nbconvert_exporter": "python",
   "pygments_lexer": "ipython3",
   "version": "3.11.0"
  }
 },
 "nbformat": 4,
 "nbformat_minor": 5
}
